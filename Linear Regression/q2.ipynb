{
  "nbformat": 4,
  "nbformat_minor": 0,
  "metadata": {
    "colab": {
      "provenance": []
    },
    "kernelspec": {
      "name": "python3",
      "display_name": "Python 3"
    },
    "language_info": {
      "name": "python"
    }
  },
  "cells": [
    {
      "cell_type": "code",
      "execution_count": 25,
      "metadata": {
        "colab": {
          "base_uri": "https://localhost:8080/",
          "height": 0
        },
        "id": "jwKSDYXUdIY1",
        "outputId": "d40a89d2-5df8-4224-96f7-0631a180a9ad"
      },
      "outputs": [
        {
          "output_type": "stream",
          "name": "stdout",
          "text": [
            "Drive already mounted at /content/drive; to attempt to forcibly remount, call drive.mount(\"/content/drive\", force_remount=True).\n"
          ]
        }
      ],
      "source": [
        "#Gdrive mount\n",
        "from google.colab import drive\n",
        "drive.mount('/content/drive')"
      ]
    },
    {
      "cell_type": "markdown",
      "source": [
        "**Question 2**"
      ],
      "metadata": {
        "id": "EnTx_5fNqRlx"
      }
    },
    {
      "cell_type": "markdown",
      "source": [],
      "metadata": {
        "id": "jSsQmNVYqO_5"
      }
    },
    {
      "cell_type": "code",
      "source": [
        "#Train data read\n",
        "import pandas as pd\n",
        "import numpy as np\n",
        "data=pd.read_csv(r\"/content/drive/MyDrive/Train.csv\")\n",
        "data=np.array(data)\n",
        "print(data.shape)"
      ],
      "metadata": {
        "colab": {
          "base_uri": "https://localhost:8080/",
          "height": 0
        },
        "id": "k1ugar9RdOCI",
        "outputId": "a5fd8214-3618-41ae-ccdb-7f171f4ddc24"
      },
      "execution_count": 26,
      "outputs": [
        {
          "output_type": "stream",
          "name": "stdout",
          "text": [
            "(9999, 101)\n"
          ]
        }
      ]
    },
    {
      "cell_type": "code",
      "source": [
        "#test data read\n",
        "data_test=pd.read_csv(r\"/content/drive/MyDrive/test.csv\")\n",
        "data_test=np.array(data_test)\n",
        "print(data_test.shape)"
      ],
      "metadata": {
        "colab": {
          "base_uri": "https://localhost:8080/",
          "height": 0
        },
        "id": "0UTwf_mszRgC",
        "outputId": "19e5dfa6-ffc7-47d9-f434-37455657553a"
      },
      "execution_count": 27,
      "outputs": [
        {
          "output_type": "stream",
          "name": "stdout",
          "text": [
            "(499, 101)\n"
          ]
        }
      ]
    },
    {
      "cell_type": "code",
      "source": [
        "#Normalization\n",
        "def normalization(X):\n",
        "    #mean of each feature\n",
        "    means = np.array([np.mean(X[:,i]) for i in range(X.shape[1])])\n",
        "    \n",
        "    \n",
        "    #standard deviation of each feature\n",
        "    stddevs = np.array([np.std(X[:,i]) for i in range(X.shape[1])])\n",
        "        \n",
        "    normal_=[]\n",
        "    #z=(x-mu)/std\n",
        "    for i in range (X.shape[1]):\n",
        "      mu=means[i]\n",
        "      s=stddevs[i]\n",
        "      normalized = (X[:,i]-mu)/s\n",
        "      normal_.append(normalized)\n",
        "    normal_=np.transpose(np.array(normal_))\n",
        "    \n",
        "    return normal_"
      ],
      "metadata": {
        "id": "ak-0eNktdXf3"
      },
      "execution_count": 28,
      "outputs": []
    },
    {
      "cell_type": "code",
      "source": [
        "#Gradient Descend\n",
        "def gradient_desc(W,X,Y):\n",
        "  alpha=0.0001\n",
        "  grad_W=np.matmul(np.transpose(X),(np.matmul(X,W)-Y))\n",
        "  W=W-alpha*grad_W/X.shape[0]\n",
        "  \n",
        "  return W"
      ],
      "metadata": {
        "id": "IRBFMkHyl84z"
      },
      "execution_count": 29,
      "outputs": []
    },
    {
      "cell_type": "code",
      "source": [
        "#Mean Square Error\n",
        "def mse(Y,Y_pred):\n",
        "  a=Y_pred-Y\n",
        "  x=np.matmul(np.transpose(a),a)\n",
        "  return x[0][0]/Y.shape[0]"
      ],
      "metadata": {
        "id": "UUst_Pw4lNj_"
      },
      "execution_count": 30,
      "outputs": []
    },
    {
      "cell_type": "code",
      "source": [
        "#Ridge Regression\n",
        "def ridge_reg (W,X,Y,lambda_):\n",
        "  alpha=0.0001\n",
        "  g=np.matmul(np.transpose(X),(np.matmul(X,W)-Y))\n",
        "\n",
        "  grad_W=g/X.shape[0]+lambda_*W\n",
        "  \n",
        "  W=W-alpha*grad_W\n",
        "  \n",
        "  return W"
      ],
      "metadata": {
        "id": "zkJkSarvsjMC"
      },
      "execution_count": 31,
      "outputs": []
    },
    {
      "cell_type": "code",
      "source": [
        "from pandas.core.api import notnull\n",
        "\n",
        "import numpy as np\n",
        "import matplotlib.pyplot as plt\n",
        "d=[0, 1, 2, 10];\n",
        "error=[]\n",
        "\n",
        "#Splitting of data\n",
        "X=data[0:8000][:,:100]\n",
        "Y=data[0:8000][:,100]\n",
        "X_val=data[8000:9999][:,:100]\n",
        "Y_val=data[8000:9999][:,100]\n",
        "X_test=data_test[:,:100]\n",
        "Y_test=data_test[:,100]\n",
        "X=np.array(X).reshape(8000,100)\n",
        "Y=np.array(Y).reshape(8000,1)\n",
        "X_val=np.array(X_val).reshape(1999,100)\n",
        "Y_val=np.array(Y_val).reshape(1999,1)\n",
        "X_test=np.array(X_test).reshape(499,100)\n",
        "Y_test=np.array(Y_test).reshape(499,1)\n",
        "#Normalization of data\n",
        "X_=normalization(X)\n",
        "X_val_=normalization(X_val)\n",
        "X_test_=normalization(X_test)\n",
        "\n",
        "# X=[1 x] x=data matrix\n",
        "X_new=np.ones((X_.shape[0],1))\n",
        "X_new=np.column_stack((X_new,X_))\n",
        "X_val_new=np.ones((X_val_.shape[0],1))\n",
        "X_val_new=np.column_stack((X_val_new,X_val_))\n",
        "X_test_new=np.ones((X_test_.shape[0],1))\n",
        "X_test_new=np.column_stack((X_test_new,X_test_))\n",
        "#Analytical method\n",
        "W_1=np.matmul(np.matmul(np.matmul(np.transpose(X_new),X_new),np.transpose(X_new)),Y)\n",
        "## Validation for analytical method\n",
        "Y_val_pred=np.matmul(X_val_new,W_1)\n",
        "error_1=mse(Y_val,Y_val_pred)\n",
        "print('Analytical method:')\n",
        "print(\"Validation error\",error_1)\n",
        "##Gradient Descent Method\n",
        "W_2=np.zeros((X_new.shape[1],1))\n",
        "print('\\nGradient Descent:')\n",
        "#First epoch might not be able to obtain the optimal value\n",
        "for epoch in range (1000):\n",
        "    W_new=gradient_desc(W_2,X_new,Y)\n",
        "    #Traing data prediction\n",
        "    Y_pred=np.matmul(X_new,W_new)\n",
        "    \n",
        "    W_2=W_new\n",
        "    #Validation data prediction\n",
        "    Y_val_pred=np.matmul(X_val_new,W_new)\n",
        "error_2=mse(Y_val,Y_val_pred)  \n",
        "print(\"Validation error=\",error_2)\n",
        "#Calculation of ||Wt- Wml||^2\n",
        "t=[]\n",
        "W_diff=[]\n",
        "for i in range (101):\n",
        "  W_diff.append((W_1[i]-W_2[i])**2)\n",
        "  t.append(i+1)\n",
        "plt.plot(t,W_diff)\n",
        "plt.xlabel(\"t values\")\n",
        "plt.ylabel(\"||Wt-Wml||^2\")\n",
        "# Plot of ||Wt -Wml||^2 vas t values\n",
        "plt.show()\n",
        "print(\"Minimum ||Wt-Wml||^2=\",min(W_diff))"
      ],
      "metadata": {
        "colab": {
          "base_uri": "https://localhost:8080/",
          "height": 394
        },
        "id": "4xA9pYxjdeZZ",
        "outputId": "41e03962-628e-4ec2-8061-ccd4172dcf00"
      },
      "execution_count": 32,
      "outputs": [
        {
          "output_type": "stream",
          "name": "stdout",
          "text": [
            "Analytical method:\n",
            "Validation error 2.0996507102711436e+16\n",
            "\n",
            "Gradient Descent:\n",
            "Validation error= 4.2396132898979\n"
          ]
        },
        {
          "output_type": "display_data",
          "data": {
            "text/plain": [
              "<Figure size 432x288 with 1 Axes>"
            ],
            "image/png": "[encoded data removed]"
          },
          "metadata": {
            "needs_background": "light"
          }
        },
        {
          "output_type": "stream",
          "name": "stdout",
          "text": [
            "Minimum ||Wt-Wml||^2= [4258897.39190971]\n"
          ]
        }
      ]
    },
    {
      "cell_type": "markdown",
      "source": [
        "The observation from the above plot are such that:\n",
        "\n",
        "i) some initial squared differences between *W_ml* and *W_t* values are much higher than the rest.\n",
        "\n",
        "ii) But the squared difference remains quite high throughout with the minimum value being=4258897(approx).\n",
        "\n",
        "iii) If viewed carefully we can see certain spikes in the line running parallel to x axis. So, we can make another observations there are certain squared difference values  which will be higher than the rest but much lower than the initial ||Wt- Wml||^2 values."
      ],
      "metadata": {
        "id": "slirWoCOXpHA"
      }
    },
    {
      "cell_type": "code",
      "source": [
        "#Ridge Regression\n",
        "\n",
        "#Initializing weights\n",
        "W_3=np.zeros((X_new.shape[1],1))\n",
        "error_3=[]\n",
        "print('\\nRidge Regression')\n",
        "#Initializing a range of lambda values\n",
        "lambda_=np.arange(0,200)\n",
        "# Computing ridge regression for each lambda value\n",
        "for l in range(len(lambda_)):\n",
        "  # The first epoch might not be able to reach to the optimal W value \n",
        "  for epoch in range (1000):\n",
        "   \n",
        "      W_new=ridge_reg(W_3,X_new,Y,lambda_[l])\n",
        "      #Training data prediction\n",
        "      Y_pred=np.matmul(X_new,W_new)\n",
        "      \n",
        "      W_3=W_new\n",
        "      #Validation data prediction\n",
        "      Y_val_pred=np.matmul(X_val_new,W_new)\n",
        "  #error list contain all validation error for each lambda value\n",
        "  error_3.append(mse(Y_val,Y_val_pred))\n",
        "\n",
        "  # Optimal W_r value for optimal lambda\n",
        "  min_error=min(error_3)\n",
        "  if min_error==error_3[-1]:\n",
        "    W_r=W_3\n",
        "\n",
        "print(\"Validation error=\",min_error)\n",
        "#Plotting validation error vs lambda\n",
        "plt.plot(lambda_,error_3)\n",
        "plt.xlabel(\"lambda values\")\n",
        "plt.ylabel(\"error\")\n",
        "\n",
        "plt.show()"
      ],
      "metadata": {
        "colab": {
          "base_uri": "https://localhost:8080/",
          "height": 331
        },
        "id": "_vMLdgeJV_tS",
        "outputId": "4424d23a-8113-4604-bbc0-307290f4f741"
      },
      "execution_count": 24,
      "outputs": [
        {
          "output_type": "stream",
          "name": "stdout",
          "text": [
            "\n",
            "Ridge Regression\n",
            "Validation error= 3.130278313192314\n"
          ]
        },
        {
          "output_type": "display_data",
          "data": {
            "text/plain": [
              "<Figure size 432x288 with 1 Axes>"
            ],
            "image/png": "[encoded data removed]"
          },
          "metadata": {
            "needs_background": "light"
          }
        }
      ]
    },
    {
      "cell_type": "markdown",
      "source": [],
      "metadata": {
        "id": "pvwmea1dUfXN"
      }
    },
    {
      "cell_type": "code",
      "source": [
        "Y_test_ml=np.matmul(X_test_new,W_1)\n",
        "Y_test_r=np.matmul(X_test_new,W_r)\n",
        "print(\"Cross validation on test data:\")\n",
        "print(\"MSE for W_ml=\",mse(Y_test,Y_test_ml))\n",
        "print(\"MSE for W_r=\",mse(Y_test,Y_test_r))\n"
      ],
      "metadata": {
        "id": "ui7-n3_ExGeQ",
        "colab": {
          "base_uri": "https://localhost:8080/",
          "height": 0
        },
        "outputId": "2d754192-1abf-4216-95c1-6c9cba75f278"
      },
      "execution_count": 22,
      "outputs": [
        {
          "output_type": "stream",
          "name": "stdout",
          "text": [
            "Cross validation on test data:\n",
            "MSE for W_ml= 2.0937179853825532e+16\n",
            "MSE for W_r= 3.1551866178419665\n"
          ]
        }
      ]
    },
    {
      "cell_type": "markdown",
      "source": [
        "We can see from the Mean Squared Error calculation that error for W_ml is of the order 10^16 ,whereas, for W_r is just 3.15518 when calculated on test data.\n",
        "\n",
        "So a better choice would be Ridge Regression over Analytical Method.\n",
        "\n",
        "The reason for it is analytical method becomes unreliable when the dataset is too huge feature wise and sample wise. Whereas, ridge regression is can improve the model's predictive accuracy: By reducing overfitting and improving the model's generalization performance, ridge regression can often produce more accurate predictions on new data compared to the analytical method."
      ],
      "metadata": {
        "id": "QmK2VNY0aSJg"
      }
    }
  ]
}